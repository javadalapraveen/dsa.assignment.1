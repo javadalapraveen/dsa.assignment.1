{
 "cells": [
  {
   "cell_type": "code",
   "execution_count": 1,
   "metadata": {},
   "outputs": [
    {
     "name": "stdout",
     "output_type": "stream",
     "text": [
      "Pairs with sum 12 are:\n",
      "(7, 5)\n",
      "(8, 4)\n",
      "(9, 3)\n"
     ]
    }
   ],
   "source": [
    "def find_pairs_with_sum(arr, target_sum):\n",
    "    pairs = []\n",
    "    seen = []\n",
    "\n",
    "    for num in arr:\n",
    "        complement = target_sum - num\n",
    "\n",
    "    \n",
    "        if complement in seen:\n",
    "            \n",
    "            pairs.append((num, complement))\n",
    "\n",
    "        \n",
    "        seen.append(num)\n",
    "\n",
    "    return pairs\n",
    "\n",
    "\n",
    "input_str = input(\"Enter integers separated by spaces: \")\n",
    "arr = list(map(int, input_str.split()))\n",
    "\n",
    "\n",
    "target_sum = int(input(\"Enter the target sum: \"))\n",
    "\n",
    "result = find_pairs_with_sum(arr, target_sum)\n",
    "\n",
    "if result:\n",
    "    print(\"Pairs with sum\", target_sum, \"are:\")\n",
    "    for pair in result:\n",
    "        print(pair)\n",
    "else:\n",
    "    print(\"No pairs found with sum\", target_sum)\n"
   ]
  }
 ],
 "metadata": {
  "kernelspec": {
   "display_name": "Python 3",
   "language": "python",
   "name": "python3"
  },
  "language_info": {
   "codemirror_mode": {
    "name": "ipython",
    "version": 3
   },
   "file_extension": ".py",
   "mimetype": "text/x-python",
   "name": "python",
   "nbconvert_exporter": "python",
   "pygments_lexer": "ipython3",
   "version": "3.11.4"
  },
  "orig_nbformat": 4
 },
 "nbformat": 4,
 "nbformat_minor": 2
}
