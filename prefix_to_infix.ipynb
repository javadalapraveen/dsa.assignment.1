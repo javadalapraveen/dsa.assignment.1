{
 "cells": [
  {
   "cell_type": "code",
   "execution_count": 2,
   "metadata": {},
   "outputs": [
    {
     "name": "stdout",
     "output_type": "stream",
     "text": [
      "Infix expression: c\n"
     ]
    }
   ],
   "source": [
    "def is_operator(char):\n",
    "    \n",
    "    return char in \"+-*/\"\n",
    "\n",
    "def prefix_to_infix(prefix_expression):\n",
    "    stack = []\n",
    "\n",
    "  \n",
    "    reversed_expression = prefix_expression[::-1]\n",
    "\n",
    "    for char in reversed_expression:\n",
    "        if not is_operator(char):\n",
    "          \n",
    "            stack.append(char)\n",
    "        else:\n",
    "            \n",
    "            operand1 = stack.pop()\n",
    "            operand2 = stack.pop()\n",
    "            \n",
    "            infix = f\"({operand1}{char}{operand2})\"\n",
    "          \n",
    "            stack.append(infix)\n",
    "\n",
    "    return stack[0]\n",
    "\n",
    "prefix_expression = input(\"Enter a prefix expression: \")\n",
    "\n",
    "infix_expression = prefix_to_infix(prefix_expression)\n",
    "print(\"Infix expression:\", infix_expression)\n"
   ]
  }
 ],
 "metadata": {
  "kernelspec": {
   "display_name": "Python 3",
   "language": "python",
   "name": "python3"
  },
  "language_info": {
   "codemirror_mode": {
    "name": "ipython",
    "version": 3
   },
   "file_extension": ".py",
   "mimetype": "text/x-python",
   "name": "python",
   "nbconvert_exporter": "python",
   "pygments_lexer": "ipython3",
   "version": "3.11.4"
  },
  "orig_nbformat": 4
 },
 "nbformat": 4,
 "nbformat_minor": 2
}
