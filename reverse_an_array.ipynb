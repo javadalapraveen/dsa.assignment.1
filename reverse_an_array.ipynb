{
 "cells": [
  {
   "cell_type": "code",
   "execution_count": 1,
   "metadata": {},
   "outputs": [
    {
     "name": "stdout",
     "output_type": "stream",
     "text": [
      "Reversed array: [9, 8, 7, 6, 5, 4, 3, 2, 1]\n"
     ]
    }
   ],
   "source": [
    "def reverse_array(arr):\n",
    "    start = 0\n",
    "    end = len(arr) - 1\n",
    "\n",
    "    while start < end:\n",
    "        \n",
    "        arr[start], arr[end] = arr[end], arr[start]\n",
    "\n",
    "    \n",
    "        start += 1\n",
    "        end -= 1\n",
    "\n",
    "\n",
    "input_str = input(\"Enter integers separated by spaces: \")\n",
    "arr = list(map(int, input_str.split()))\n",
    "\n",
    "\n",
    "reverse_array(arr)\n",
    "\n",
    "\n",
    "print(\"Reversed array:\", arr)"
   ]
  }
 ],
 "metadata": {
  "kernelspec": {
   "display_name": "Python 3",
   "language": "python",
   "name": "python3"
  },
  "language_info": {
   "codemirror_mode": {
    "name": "ipython",
    "version": 3
   },
   "file_extension": ".py",
   "mimetype": "text/x-python",
   "name": "python",
   "nbconvert_exporter": "python",
   "pygments_lexer": "ipython3",
   "version": "3.11.4"
  },
  "orig_nbformat": 4
 },
 "nbformat": 4,
 "nbformat_minor": 2
}
