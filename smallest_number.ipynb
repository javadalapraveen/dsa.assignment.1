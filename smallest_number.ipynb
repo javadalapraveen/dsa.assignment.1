{
 "cells": [
  {
   "cell_type": "code",
   "execution_count": 1,
   "metadata": {},
   "outputs": [
    {
     "name": "stdout",
     "output_type": "stream",
     "text": [
      "Minimum element: 1\n"
     ]
    }
   ],
   "source": [
    "class Stack:\n",
    "    def __init__(self):\n",
    "        self.items = []\n",
    "\n",
    "    def is_empty(self):\n",
    "        return len(self.items) == 0\n",
    "\n",
    "    def push(self, item):\n",
    "        self.items.append(item)\n",
    "\n",
    "    def pop(self):\n",
    "        if not self.is_empty():\n",
    "            return self.items.pop()\n",
    "\n",
    "    def peek(self):\n",
    "        if not self.is_empty():\n",
    "            return self.items[-1]\n",
    "\n",
    "    def size(self):\n",
    "        return len(self.items)\n",
    "\n",
    "\n",
    "class MinStack:\n",
    "    def __init__(self):\n",
    "        self.main_stack = Stack()\n",
    "        self.min_stack = Stack()\n",
    "\n",
    "    def push(self, item):\n",
    "        self.main_stack.push(item)\n",
    "\n",
    "        # If the min_stack is empty or the item is smaller than or equal to the current minimum, push it onto the min_stack.\n",
    "        if self.min_stack.is_empty() or item <= self.min_stack.peek():\n",
    "            self.min_stack.push(item)\n",
    "\n",
    "    def pop(self):\n",
    "        if not self.main_stack.is_empty():\n",
    "            # If the item being popped from the main_stack is the current minimum, pop it from the min_stack as well.\n",
    "            if self.main_stack.peek() == self.min_stack.peek():\n",
    "                self.min_stack.pop()\n",
    "            return self.main_stack.pop()\n",
    "\n",
    "    def get_min(self):\n",
    "        if not self.min_stack.is_empty():\n",
    "            return self.min_stack.peek()\n",
    "\n",
    "\n",
    "# Create a MinStack\n",
    "min_stack = MinStack()\n",
    "\n",
    "# Push elements onto the MinStack\n",
    "min_stack.push(4)\n",
    "min_stack.push(2)\n",
    "min_stack.push(7)\n",
    "min_stack.push(1)\n",
    "min_stack.push(8)\n",
    "\n",
    "# Find the minimum element\n",
    "minimum = min_stack.get_min()\n",
    "print(\"Minimum element:\", minimum)\n"
   ]
  }
 ],
 "metadata": {
  "kernelspec": {
   "display_name": "Python 3",
   "language": "python",
   "name": "python3"
  },
  "language_info": {
   "codemirror_mode": {
    "name": "ipython",
    "version": 3
   },
   "file_extension": ".py",
   "mimetype": "text/x-python",
   "name": "python",
   "nbconvert_exporter": "python",
   "pygments_lexer": "ipython3",
   "version": "3.11.4"
  },
  "orig_nbformat": 4
 },
 "nbformat": 4,
 "nbformat_minor": 2
}
