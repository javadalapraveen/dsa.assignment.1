{
 "cells": [
  {
   "cell_type": "code",
   "execution_count": 2,
   "metadata": {},
   "outputs": [
    {
     "name": "stdout",
     "output_type": "stream",
     "text": [
      "There is no string rotation.\n"
     ]
    }
   ],
   "source": [
    "def are_rotations(str1, str2):\n",
    "    \n",
    "    if len(str1) != len(str2):\n",
    "        return False\n",
    "\n",
    "    \n",
    "    concatenated_str = str1 + str1\n",
    "\n",
    "    \n",
    "    if str2 in concatenated_str:\n",
    "        return True\n",
    "    else:\n",
    "        return False\n",
    "\n",
    "\n",
    "str1 = input(\"Enter the first string: \")\n",
    "str2 = input(\"Enter the second string: \")\n",
    "\n",
    "if are_rotations(str1, str2):\n",
    "    print(\"The strings are rotations of each other.\")\n",
    "else:\n",
    "    print(\"There is no string rotation.\")\n"
   ]
  }
 ],
 "metadata": {
  "kernelspec": {
   "display_name": "Python 3",
   "language": "python",
   "name": "python3"
  },
  "language_info": {
   "codemirror_mode": {
    "name": "ipython",
    "version": 3
   },
   "file_extension": ".py",
   "mimetype": "text/x-python",
   "name": "python",
   "nbconvert_exporter": "python",
   "pygments_lexer": "ipython3",
   "version": "3.11.4"
  },
  "orig_nbformat": 4
 },
 "nbformat": 4,
 "nbformat_minor": 2
}
